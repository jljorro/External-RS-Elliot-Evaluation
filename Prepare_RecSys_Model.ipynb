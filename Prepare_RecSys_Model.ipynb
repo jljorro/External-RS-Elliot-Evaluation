{
 "cells": [
  {
   "cell_type": "markdown",
   "metadata": {},
   "source": [
    "# Cómo preparar un modelo de recomendador externo para evaluarlo con la librería Elliot\n",
    "\n",
    "En este notebook se explica los pasos que se deben realizar para poder evaluar un sistema recomendador externo con la librería Elliot. Para ello, crearemos un sistema recomendador implementado con la librería [Surprise](https://surpriselib.com/). Para el sistema recomendador usaremos el dataset de [Movielens 1M](https://grouplens.org/datasets/movielens/1m/), cuyos ficheros se encuentran en la carpeta `data`.\n",
    "\n",
    "## Paso 1 - Preparar el dataset\n",
    "\n",
    "En este ejemplo solo usaremos el fichero que contiene los ratings. El contenido de este dataset lo dividiremos en:\n",
    "- `train`: contiene el 80% de los datos y lo usaremos para entrenar el modelo.\n",
    "- `test`: contiene el 20% de los datos y los usaremos para evaluar el modelo."
   ]
  },
  {
   "cell_type": "code",
   "execution_count": 1,
   "metadata": {},
   "outputs": [
    {
     "data": {
      "text/html": [
       "<div>\n",
       "<style scoped>\n",
       "    .dataframe tbody tr th:only-of-type {\n",
       "        vertical-align: middle;\n",
       "    }\n",
       "\n",
       "    .dataframe tbody tr th {\n",
       "        vertical-align: top;\n",
       "    }\n",
       "\n",
       "    .dataframe thead th {\n",
       "        text-align: right;\n",
       "    }\n",
       "</style>\n",
       "<table border=\"1\" class=\"dataframe\">\n",
       "  <thead>\n",
       "    <tr style=\"text-align: right;\">\n",
       "      <th></th>\n",
       "      <th>user_id</th>\n",
       "      <th>movie_id</th>\n",
       "      <th>rating</th>\n",
       "      <th>timestamp</th>\n",
       "    </tr>\n",
       "  </thead>\n",
       "  <tbody>\n",
       "    <tr>\n",
       "      <th>0</th>\n",
       "      <td>1</td>\n",
       "      <td>1193</td>\n",
       "      <td>5</td>\n",
       "      <td>978300760</td>\n",
       "    </tr>\n",
       "    <tr>\n",
       "      <th>1</th>\n",
       "      <td>1</td>\n",
       "      <td>661</td>\n",
       "      <td>3</td>\n",
       "      <td>978302109</td>\n",
       "    </tr>\n",
       "    <tr>\n",
       "      <th>2</th>\n",
       "      <td>1</td>\n",
       "      <td>914</td>\n",
       "      <td>3</td>\n",
       "      <td>978301968</td>\n",
       "    </tr>\n",
       "    <tr>\n",
       "      <th>3</th>\n",
       "      <td>1</td>\n",
       "      <td>3408</td>\n",
       "      <td>4</td>\n",
       "      <td>978300275</td>\n",
       "    </tr>\n",
       "    <tr>\n",
       "      <th>4</th>\n",
       "      <td>1</td>\n",
       "      <td>2355</td>\n",
       "      <td>5</td>\n",
       "      <td>978824291</td>\n",
       "    </tr>\n",
       "  </tbody>\n",
       "</table>\n",
       "</div>"
      ],
      "text/plain": [
       "   user_id  movie_id  rating  timestamp\n",
       "0        1      1193       5  978300760\n",
       "1        1       661       3  978302109\n",
       "2        1       914       3  978301968\n",
       "3        1      3408       4  978300275\n",
       "4        1      2355       5  978824291"
      ]
     },
     "metadata": {},
     "output_type": "display_data"
    },
    {
     "name": "stdout",
     "output_type": "stream",
     "text": [
      "# de ratings:  1000209\n"
     ]
    }
   ],
   "source": [
    "# Leemos el dataset\n",
    "\n",
    "import pandas as pd\n",
    "\n",
    "ratings_df = pd.read_csv('data/ml1m/ratings.dat', sep=\"::\", header=None, engine='python')\n",
    "ratings_df.columns = [\"user_id\", \"movie_id\", \"rating\", \"timestamp\"]\n",
    "display(ratings_df.head())\n",
    "print(\"# de ratings: \", ratings_df.shape[0])"
   ]
  },
  {
   "cell_type": "code",
   "execution_count": 2,
   "metadata": {},
   "outputs": [
    {
     "name": "stdout",
     "output_type": "stream",
     "text": [
      "# de ratings en train:  800167\n",
      "# de ratings en test:  200042\n"
     ]
    }
   ],
   "source": [
    "# Creamos los datasets de train (80%) y test (20%)\n",
    "import sklearn.model_selection as model_selection\n",
    "\n",
    "train, test = model_selection.train_test_split(ratings_df, test_size=0.2, random_state=42)\n",
    "print(\"# de ratings en train: \", train.shape[0])\n",
    "print(\"# de ratings en test: \", test.shape[0])"
   ]
  },
  {
   "cell_type": "markdown",
   "metadata": {},
   "source": [
    "## Paso 2: Entrenar el modelo de recomendación\n",
    "\n",
    "En este ejemplo vamos a entrenar un modelo de recomendación basado en factorización de matrices no negativas (NMF). Para ello, usaremos la librería de surprise."
   ]
  },
  {
   "cell_type": "code",
   "execution_count": 3,
   "metadata": {},
   "outputs": [
    {
     "data": {
      "text/plain": [
       "<surprise.prediction_algorithms.matrix_factorization.NMF at 0x1127e5f40>"
      ]
     },
     "execution_count": 3,
     "metadata": {},
     "output_type": "execute_result"
    }
   ],
   "source": [
    "from surprise import Reader, Dataset, NMF\n",
    "\n",
    "reader = Reader(rating_scale=(1, 5))\n",
    "train_data = Dataset.load_from_df(train[['user_id', 'movie_id', 'rating']], reader)\n",
    "\n",
    "# Entrenamos el modelo\n",
    "algo = NMF(n_factors=15, n_epochs=20, random_state=42)\n",
    "algo.fit(train_data.build_full_trainset())"
   ]
  },
  {
   "cell_type": "markdown",
   "metadata": {},
   "source": [
    "## Paso 3: Calculando las prediciones del modelo\n",
    "\n",
    "A partir del dataset completo calculamos las predicciones para cada uno de los pares <usuario, item> que aparecen y los almacenamos en un columna nueva del dataframe.\n"
   ]
  },
  {
   "cell_type": "code",
   "execution_count": 4,
   "metadata": {},
   "outputs": [
    {
     "data": {
      "text/html": [
       "<div>\n",
       "<style scoped>\n",
       "    .dataframe tbody tr th:only-of-type {\n",
       "        vertical-align: middle;\n",
       "    }\n",
       "\n",
       "    .dataframe tbody tr th {\n",
       "        vertical-align: top;\n",
       "    }\n",
       "\n",
       "    .dataframe thead th {\n",
       "        text-align: right;\n",
       "    }\n",
       "</style>\n",
       "<table border=\"1\" class=\"dataframe\">\n",
       "  <thead>\n",
       "    <tr style=\"text-align: right;\">\n",
       "      <th></th>\n",
       "      <th>user_id</th>\n",
       "      <th>movie_id</th>\n",
       "      <th>rating</th>\n",
       "      <th>timestamp</th>\n",
       "      <th>prediction</th>\n",
       "    </tr>\n",
       "  </thead>\n",
       "  <tbody>\n",
       "    <tr>\n",
       "      <th>0</th>\n",
       "      <td>1</td>\n",
       "      <td>1193</td>\n",
       "      <td>5</td>\n",
       "      <td>978300760</td>\n",
       "      <td>4.944651</td>\n",
       "    </tr>\n",
       "    <tr>\n",
       "      <th>1</th>\n",
       "      <td>1</td>\n",
       "      <td>661</td>\n",
       "      <td>3</td>\n",
       "      <td>978302109</td>\n",
       "      <td>3.856115</td>\n",
       "    </tr>\n",
       "    <tr>\n",
       "      <th>2</th>\n",
       "      <td>1</td>\n",
       "      <td>914</td>\n",
       "      <td>3</td>\n",
       "      <td>978301968</td>\n",
       "      <td>4.333493</td>\n",
       "    </tr>\n",
       "    <tr>\n",
       "      <th>3</th>\n",
       "      <td>1</td>\n",
       "      <td>3408</td>\n",
       "      <td>4</td>\n",
       "      <td>978300275</td>\n",
       "      <td>4.031539</td>\n",
       "    </tr>\n",
       "    <tr>\n",
       "      <th>4</th>\n",
       "      <td>1</td>\n",
       "      <td>2355</td>\n",
       "      <td>5</td>\n",
       "      <td>978824291</td>\n",
       "      <td>4.354696</td>\n",
       "    </tr>\n",
       "  </tbody>\n",
       "</table>\n",
       "</div>"
      ],
      "text/plain": [
       "   user_id  movie_id  rating  timestamp  prediction\n",
       "0        1      1193       5  978300760    4.944651\n",
       "1        1       661       3  978302109    3.856115\n",
       "2        1       914       3  978301968    4.333493\n",
       "3        1      3408       4  978300275    4.031539\n",
       "4        1      2355       5  978824291    4.354696"
      ]
     },
     "metadata": {},
     "output_type": "display_data"
    }
   ],
   "source": [
    "ratings_df['prediction'] = ratings_df.apply(lambda x: algo.predict(x['user_id'], x['movie_id']).est, axis=1)\n",
    "display(ratings_df.head())"
   ]
  },
  {
   "cell_type": "markdown",
   "metadata": {},
   "source": [
    "## Paso 4: Creación de los ficheros para Elliot\n",
    "\n",
    "El último paso es crear los ficheros `.tsv` que usará la librería elliot para hacer las evaluaciones."
   ]
  },
  {
   "cell_type": "code",
   "execution_count": 6,
   "metadata": {},
   "outputs": [],
   "source": [
    "# Creación del fichero de predicciones\n",
    "\n",
    "# Seleccionamos las columnas que usará Elliot respetando el orden\n",
    "predictions_to_save = ratings_df[['user_id', 'movie_id', 'prediction', 'timestamp']]\n",
    "\n",
    "predictions_to_save.to_csv('data/elliot/predictions.tsv', sep=\"\\t\", header=None, index=False)"
   ]
  },
  {
   "cell_type": "code",
   "execution_count": 8,
   "metadata": {},
   "outputs": [],
   "source": [
    "# Creación del fichero de entrenamiento\n",
    "train.to_csv('data/elliot/train.tsv', sep=\"\\t\", header=None, index=False)\n",
    "\n",
    "# Creación del fichero de test\n",
    "test.to_csv('data/elliot/test.tsv', sep=\"\\t\", header=None, index=False)"
   ]
  },
  {
   "cell_type": "markdown",
   "metadata": {},
   "source": [
    "## A continuación...\n",
    "\n",
    "Una vez creados estos ficheros ya podemos hacer una evaluación con Elliot. Para ello, solo hay que ejecutar el script de Python `experiment.py` que aparece en este repositorio."
   ]
  }
 ],
 "metadata": {
  "kernelspec": {
   "display_name": "elliot",
   "language": "python",
   "name": "python3"
  },
  "language_info": {
   "codemirror_mode": {
    "name": "ipython",
    "version": 3
   },
   "file_extension": ".py",
   "mimetype": "text/x-python",
   "name": "python",
   "nbconvert_exporter": "python",
   "pygments_lexer": "ipython3",
   "version": "3.8.18"
  },
  "orig_nbformat": 4
 },
 "nbformat": 4,
 "nbformat_minor": 2
}
